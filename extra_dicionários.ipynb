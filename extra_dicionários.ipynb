{
 "cells": [
  {
   "cell_type": "markdown",
   "id": "complimentary-locator",
   "metadata": {},
   "source": [
    "### Revisando funções"
   ]
  },
  {
   "cell_type": "markdown",
   "id": "exterior-likelihood",
   "metadata": {},
   "source": [
    "**Veja abaixo alguns métodos úteis para utilizar neste notebook**\n",
    "\n",
    "<li>copy()\tReturns a copy of the dictionary\n",
    "<li>fromkeys()\tReturns a dictionary with the specified keys and value\n",
    "<li>get()\tReturns the value of the specified key\n",
    "<li>items()\tReturns a list containing a tuple for each key value pair\n",
    "<li>keys()\tReturns a list containing the dictionary's keys\n",
    "<li>pop()\tRemoves the element with the specified key\n",
    "<li>popitem()\tRemoves the last inserted key-value pair\n",
    "<li>setdefault()\tReturns the value of the specified key. If the key does not exist: insert the key, with the specified value\n",
    "<li>update()\tUpdates the dictionary with the specified key-value pairs\n",
    "<li>values()\tReturns a list of all the values in the dictionary\n",
    "   "
   ]
  },
  {
   "cell_type": "code",
   "execution_count": 9,
   "id": "affecting-faith",
   "metadata": {},
   "outputs": [
    {
     "name": "stdout",
     "output_type": "stream",
     "text": [
      "{'genero': 'fantasia', 'moedas': 100, 'bolsa': ['espada', 'escudo']}\n"
     ]
    }
   ],
   "source": [
    "#dicionário de exemplo\n",
    "dict_orig = {\n",
    "    'genero':'fantasia',\n",
    "    'moedas':100,\n",
    "    'bolsa':['espada','escudo']\n",
    "}\n",
    "\n",
    "print(dict_orig)"
   ]
  },
  {
   "cell_type": "code",
   "execution_count": 31,
   "id": "improving-differential",
   "metadata": {},
   "outputs": [
    {
     "name": "stdout",
     "output_type": "stream",
     "text": [
      "{'genero': 'fantasia', 'moedas': 100, 'bolsa': ['vara de pesca', 'escudo']}\n",
      "{'genero': 'fantasia', 'moedas': 100, 'bolsa': ['vara de pesca', 'escudo'], 'figueira': {'nome': 'Guilherme', 'barba': 'sim'}}\n"
     ]
    }
   ],
   "source": [
    "#adicionar\n",
    "\n",
    "dic = dict_orig.copy()\n",
    "print(dic)\n",
    "\n",
    "dic['nome'] = {'nome':'Guilherme', 'sobrenome':'Coração de Dragão'}\n",
    "print(dic)"
   ]
  },
  {
   "cell_type": "code",
   "execution_count": 32,
   "id": "requested-disability",
   "metadata": {},
   "outputs": [
    {
     "name": "stdout",
     "output_type": "stream",
     "text": [
      "{'genero': 'fantasia', 'moedas': 100, 'bolsa': ['vara de pesca', 'escudo']}\n",
      "{'genero': 'fantasia', 'moedas': 100}\n"
     ]
    },
    {
     "data": {
      "text/plain": [
       "'a chave não foi encontrada'"
      ]
     },
     "execution_count": 32,
     "metadata": {},
     "output_type": "execute_result"
    }
   ],
   "source": [
    "#excluir: pop()\n",
    "\n",
    "dic = dict_orig.copy()\n",
    "print(dic)\n",
    "\n",
    "#correto\n",
    "dic.pop('bolsa','a chave não foi encontrada')\n",
    "print(dic)\n",
    "\n",
    "#correto\n",
    "dic.pop('roupa','a chave não foi encontrada')\n",
    "\n",
    "#errado\n",
    "#dic.pop(['moedas','bolsa'])"
   ]
  },
  {
   "cell_type": "code",
   "execution_count": 5,
   "id": "stopped-particular",
   "metadata": {},
   "outputs": [
    {
     "name": "stdout",
     "output_type": "stream",
     "text": [
      "{'genero': 'fantasia', 'moedas': 100, 'bolsa': ['vara de pesca', 'escudo']}\n",
      "{'genero': 'fantasia', 'moedas': 100}\n",
      "{'genero': 'fantasia'}\n"
     ]
    }
   ],
   "source": [
    "#excluir: popitem()\n",
    "\n",
    "dic = dict_orig.copy()\n",
    "print(dic)\n",
    "\n",
    "#correto\n",
    "dic.popitem()\n",
    "print(dic)\n",
    "\n",
    "#correto\n",
    "dic.popitem()\n",
    "print(dic)\n",
    "\n",
    "#errado\n",
    "#dic.popitem('genero')"
   ]
  },
  {
   "cell_type": "code",
   "execution_count": 6,
   "id": "prostate-swedish",
   "metadata": {},
   "outputs": [
    {
     "name": "stdout",
     "output_type": "stream",
     "text": [
      "{'genero': 'fantasia', 'moedas': 100, 'bolsa': ['vara de pesca', 'escudo']}\n",
      "{'moedas': 100, 'bolsa': ['vara de pesca', 'escudo']}\n"
     ]
    }
   ],
   "source": [
    "#EXTRA\n",
    "#excluir: del\n",
    "\n",
    "dic = dict_orig.copy()\n",
    "print(dic)\n",
    "\n",
    "#correto\n",
    "del dic['genero']\n",
    "print(dic)\n",
    "\n",
    "#errado\n",
    "#del dic['moedas','bolsa']"
   ]
  },
  {
   "cell_type": "code",
   "execution_count": 7,
   "id": "brief-elite",
   "metadata": {},
   "outputs": [
    {
     "name": "stdout",
     "output_type": "stream",
     "text": [
      "{'genero': 'fantasia', 'moedas': 100, 'bolsa': ['vara de pesca', 'escudo']}\n",
      "{}\n"
     ]
    }
   ],
   "source": [
    "#EXTRA\n",
    "#excluir: clear()\n",
    "\n",
    "dic = dict_orig.copy()\n",
    "print(dic)\n",
    "\n",
    "#correto\n",
    "dic.clear()\n",
    "print(dic)"
   ]
  },
  {
   "cell_type": "code",
   "execution_count": 8,
   "id": "opening-evans",
   "metadata": {},
   "outputs": [
    {
     "name": "stdout",
     "output_type": "stream",
     "text": [
      "{'genero': 'fantasia', 'moedas': 100, 'bolsa': ['vara de pesca', 'escudo']}\n",
      "{'genero': 'steampunk', 'moedas': 100, 'bolsa': ['vara de pesca', 'escudo']}\n",
      "{'genero': 'pos-apocalipse', 'moedas': 388, 'bolsa': ['vara de pesca', 'escudo']}\n",
      "{'genero': 'pos-apocalipse', 'moedas': 388, 'bolsa': ['machado', 'capacete']}\n",
      "{'genero': 'pos-apocalipse', 'moedas': 388, 'bolsa': ['machado', 'capacete'], 'raça': 'humana', 'profissão': 'guerreiro'}\n"
     ]
    }
   ],
   "source": [
    "#alterar: update()\n",
    "\n",
    "dic = dict_orig.copy()\n",
    "print(dic)\n",
    "\n",
    "#correto\n",
    "dic.update({'genero':'steampunk'})\n",
    "print(dic)\n",
    "\n",
    "#correto\n",
    "dic.update({'genero':'pos-apocalipse', 'moedas':388})\n",
    "print(dic)\n",
    "\n",
    "#correto\n",
    "dic.update({'bolsa':['machado','capacete']})\n",
    "print(dic)\n",
    "\n",
    "#correto\n",
    "dic_adicional = {'raça':'humana','profissão':'guerreiro'}\n",
    "dic.update(dic_adicional)\n",
    "print(dic)\n",
    "\n",
    "#errado\n",
    "#dic['genero'].update('zumbis')"
   ]
  },
  {
   "cell_type": "markdown",
   "id": "unusual-chemistry",
   "metadata": {},
   "source": [
    "### Extra - Testando a eficiência dos dicionários"
   ]
  },
  {
   "cell_type": "code",
   "execution_count": 23,
   "id": "dressed-account",
   "metadata": {},
   "outputs": [
    {
     "data": {
      "text/plain": [
       "[1, 2, 3, 4, 5, 6, 7, 8, 9, 10]"
      ]
     },
     "execution_count": 23,
     "metadata": {},
     "output_type": "execute_result"
    }
   ],
   "source": [
    "list(range(1,11))"
   ]
  },
  {
   "cell_type": "code",
   "execution_count": 9,
   "id": "surprising-fisher",
   "metadata": {},
   "outputs": [
    {
     "name": "stdout",
     "output_type": "stream",
     "text": [
      "[1, 2, 3, 4, 5, 6, 7, 8, 9, 10]\n",
      "{1: None, 2: None, 3: None, 4: None, 5: None, 6: None, 7: None, 8: None, 9: None, 10: None}\n"
     ]
    }
   ],
   "source": [
    "#lista fictícia\n",
    "lista_ef = list(range(1,11))\n",
    "print(lista_ef)\n",
    "\n",
    "#dicionário fictício\n",
    "dict_ef = dict.fromkeys(lista_ef)\n",
    "print(dict_ef)"
   ]
  },
  {
   "cell_type": "code",
   "execution_count": 10,
   "id": "smooth-trainer",
   "metadata": {},
   "outputs": [],
   "source": [
    "# medição o tempo de execução de um código\n",
    "# %timeit -n -r (adicionar o comando)\n",
    "\n",
    "# -n: número de iterações\n",
    "# -r: número de rodadas (retorna apenas o melhor resultado) \n",
    "# fonte: https://ipython.org/ipython-doc/dev/interactive/magics.html#magic-timeit"
   ]
  },
  {
   "cell_type": "code",
   "execution_count": 24,
   "id": "mathematical-granny",
   "metadata": {},
   "outputs": [
    {
     "name": "stdout",
     "output_type": "stream",
     "text": [
      "189 ns ± 21.2 ns per loop (mean ± std. dev. of 3 runs, 10 loops each)\n",
      "135 ns ± 61.8 ns per loop (mean ± std. dev. of 3 runs, 10 loops each)\n"
     ]
    }
   ],
   "source": [
    "#tempo da lista\n",
    "%timeit -n 10 -r 3 (10 in lista_ef)\n",
    "\n",
    "#tempo do dicionário\n",
    "%timeit -n 10 -r 3 (10 in dict_ef)"
   ]
  },
  {
   "cell_type": "markdown",
   "id": "subtle-compensation",
   "metadata": {},
   "source": [
    "### Extra - Diferença entre \"=\" e copy()"
   ]
  },
  {
   "cell_type": "code",
   "execution_count": 11,
   "id": "relevant-smell",
   "metadata": {},
   "outputs": [
    {
     "name": "stdout",
     "output_type": "stream",
     "text": [
      "\n",
      "Teste Lista 1: \"=\"\n",
      "[1, 2, 3] 140673533987392\n",
      "[1, 2, 3] 140673533987392\n",
      "[99, 2, 3] 140673533987392\n",
      "[99, 2, 3] 140673533987392\n",
      "\n",
      "Teste Lista 2: copy()\n",
      "[1, 2, 3] 140673533987456\n",
      "[1, 2, 3] 140673533897088\n",
      "[1, 2, 3] 140673533987456\n",
      "[99, 2, 3] 140673533897088\n",
      "\n",
      "Teste Dicionário 1: \"=\"\n",
      "{'chave': 1} 140673533988160\n",
      "{'chave': 1} 140673533988160\n",
      "{'chave': 99} 140673533988160\n",
      "{'chave': 99} 140673533988160\n",
      "\n",
      "Teste Dicionário 2: copy()\n",
      "{'chave': 1} 140673533988032\n",
      "{'chave': 1} 140673533987584\n",
      "{'chave': 1} 140673533988032\n",
      "{'chave': 99} 140673533987584\n"
     ]
    }
   ],
   "source": [
    "def id_var(x):\n",
    "    '''id representa o endereço da variável na memória do computador'''\n",
    "    print(str(x), str(id(x)))\n",
    "    \n",
    "print('\\nTeste Lista 1: \"=\"')\n",
    "#lista exemplo\n",
    "A = [1,2,3]\n",
    "id_var(A)\n",
    "\n",
    "B = A\n",
    "id_var(B)\n",
    "\n",
    "B[0] = 99\n",
    "id_var(A)\n",
    "id_var(B)\n",
    "\n",
    "\n",
    "print('\\nTeste Lista 2: copy()')\n",
    "#lista exemplo\n",
    "A = [1,2,3]\n",
    "id_var(A)\n",
    "\n",
    "C = A.copy()\n",
    "id_var(C)\n",
    "\n",
    "C[0] = 99\n",
    "id_var(A)\n",
    "id_var(C)\n",
    "\n",
    "print('\\nTeste Dicionário 1: \"=\"')\n",
    "#lista exemplo\n",
    "D = {'chave':1}\n",
    "id_var(D)\n",
    "\n",
    "E = D\n",
    "id_var(E)\n",
    "\n",
    "E['chave'] = 99\n",
    "id_var(D)\n",
    "id_var(E)\n",
    "\n",
    "print('\\nTeste Dicionário 2: copy()')\n",
    "#lista exemplo\n",
    "D = {'chave':1}\n",
    "id_var(D)\n",
    "\n",
    "F = D.copy()\n",
    "id_var(F)\n",
    "\n",
    "F['chave'] = 99\n",
    "id_var(D)\n",
    "id_var(F)"
   ]
  }
 ],
 "metadata": {
  "kernelspec": {
   "display_name": "Python 3",
   "language": "python",
   "name": "python3"
  },
  "language_info": {
   "codemirror_mode": {
    "name": "ipython",
    "version": 3
   },
   "file_extension": ".py",
   "mimetype": "text/x-python",
   "name": "python",
   "nbconvert_exporter": "python",
   "pygments_lexer": "ipython3",
   "version": "3.8.5"
  }
 },
 "nbformat": 4,
 "nbformat_minor": 5
}
